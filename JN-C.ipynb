{
 "cells": [
  {
   "cell_type": "code",
   "execution_count": 1,
   "id": "8d9ec29a",
   "metadata": {},
   "outputs": [],
   "source": [
    "### JN-C.ipynb\n",
    "\n",
    "\"\"\"\n",
    "Note to ChatGPT: This is the new, combined JN we can work on together.\n",
    "\"\"\""
   ]
  },
  {
   "cell_type": "markdown",
   "id": "0b04ce9c",
   "metadata": {},
   "source": [
    "# Set up the Environment"
   ]
  },
  {
   "cell_type": "code",
   "execution_count": 14,
   "id": "986e53e5",
   "metadata": {},
   "outputs": [
    {
     "name": "stdout",
     "output_type": "stream",
     "text": [
      "Request failed with status code: 404\n",
      "Response content: b'<?xml version=\"1.0\" encoding=\"UTF-8\"?>\\n<Error><Code>NoSuchKey</Code><Message>The specified key does not exist.</Message><Key>indices/date</Key><RequestId>G5YKEA6FHSAW0QKX</RequestId><HostId>46tx95Ly0onunVPEMSDUhYtsF8MzWg2Ew73cYTR8qC5dsGr21Mctdg9nuBxnPoiRUXajhv28TU4=</HostId></Error>'\n",
      "None\n"
     ]
    }
   ],
   "source": [
    "import requests\n",
    "\n",
    "# Set up SEC API base URL\n",
    "SEC_API_BASE_URL = \"https://data.sec.gov/\"\n",
    "\n",
    "# Define function to make API requests with proper headers\n",
    "def make_api_request(endpoint, params=None):\n",
    "    \"\"\"\n",
    "    Make an API request to the SEC API with proper headers.\n",
    "    \n",
    "    Args:\n",
    "    - endpoint: API endpoint to request data from\n",
    "    - params: Optional parameters for the request\n",
    "    \n",
    "    Returns:\n",
    "    - Response content from the API or None if request fails\n",
    "    \"\"\"\n",
    "    headers = {'User-Agent': \"tovince@yahoo.com\"}\n",
    "    response = requests.get(SEC_API_BASE_URL + endpoint, params=params, headers=headers)\n",
    "    \n",
    "    # Check if request was successful\n",
    "    if response.status_code == 200:\n",
    "        return response.content\n",
    "    else:\n",
    "        print(\"Request failed with status code:\", response.status_code)\n",
    "        print(\"Response content:\", response.content)\n",
    "        return None\n",
    "\n",
    "# Test API request function\n",
    "response = make_api_request(\"indices/date\")\n",
    "print(response)\n"
   ]
  },
  {
   "cell_type": "markdown",
   "id": "472912ce",
   "metadata": {},
   "source": [
    "# Data Retrieval"
   ]
  },
  {
   "cell_type": "code",
   "execution_count": null,
   "id": "fe3e7c88",
   "metadata": {},
   "outputs": [],
   "source": []
  },
  {
   "cell_type": "markdown",
   "id": "b6960c50",
   "metadata": {},
   "source": [
    "# Data Processing"
   ]
  },
  {
   "cell_type": "code",
   "execution_count": null,
   "id": "52260508",
   "metadata": {},
   "outputs": [],
   "source": []
  },
  {
   "cell_type": "markdown",
   "id": "9336d53a",
   "metadata": {},
   "source": [
    "# Analysis"
   ]
  },
  {
   "cell_type": "code",
   "execution_count": null,
   "id": "5a2d32db",
   "metadata": {},
   "outputs": [],
   "source": []
  },
  {
   "cell_type": "markdown",
   "id": "9486de4a",
   "metadata": {},
   "source": [
    "# Visualization"
   ]
  },
  {
   "cell_type": "code",
   "execution_count": null,
   "id": "41164566",
   "metadata": {},
   "outputs": [],
   "source": []
  },
  {
   "cell_type": "markdown",
   "id": "aa40dd53",
   "metadata": {},
   "source": [
    "# Optimization"
   ]
  },
  {
   "cell_type": "code",
   "execution_count": null,
   "id": "86d92c9c",
   "metadata": {},
   "outputs": [],
   "source": []
  },
  {
   "cell_type": "markdown",
   "id": "db9bec24",
   "metadata": {},
   "source": [
    "# Compliance"
   ]
  },
  {
   "cell_type": "code",
   "execution_count": null,
   "id": "de9c9dcc",
   "metadata": {},
   "outputs": [],
   "source": []
  }
 ],
 "metadata": {
  "kernelspec": {
   "display_name": "Python 3 (ipykernel)",
   "language": "python",
   "name": "python3"
  },
  "language_info": {
   "codemirror_mode": {
    "name": "ipython",
    "version": 3
   },
   "file_extension": ".py",
   "mimetype": "text/x-python",
   "name": "python",
   "nbconvert_exporter": "python",
   "pygments_lexer": "ipython3",
   "version": "3.11.5"
  }
 },
 "nbformat": 4,
 "nbformat_minor": 5
}
